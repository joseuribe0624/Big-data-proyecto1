{
 "cells": [
  {
   "cell_type": "code",
   "execution_count": 1,
   "metadata": {},
   "outputs": [],
   "source": [
    "import pyspark\n",
    "from pyspark.sql import SparkSession\n",
    "from pyspark.sql import SQLContext\n",
    "from pyspark import SparkContext\n",
    "from pyspark.streaming import StreamingContext\n",
    "from pyspark.sql.types import StructType\n",
    "from pyspark.ml.feature import OneHotEncoder\n",
    "from pyspark.ml.feature import StringIndexer\n",
    "import pyspark.sql.functions as f\n",
    "from pyspark.ml.feature import VectorAssembler\n",
    "from pyspark.ml.classification import LogisticRegressionModel, LogisticRegression\n",
    "from pyspark.ml import Pipeline\n",
    "from pyspark.mllib.evaluation import MulticlassMetrics\n",
    "from pyspark.sql.types import DoubleType\n",
    "from pyspark.sql.functions import col"
   ]
  },
  {
   "cell_type": "code",
   "execution_count": 2,
   "metadata": {},
   "outputs": [],
   "source": [
    "from pyspark.sql.types import *\n",
    "spark = SparkSession.builder.appName(\"Mlseverity\").getOrCreate()\n",
    "\n",
    "accidentsSchema = StructType([\n",
    "                    StructField(\"TMC\", DoubleType(), True),\n",
    "                    StructField(\"Severity\", DoubleType(), True),\n",
    "                    StructField(\"Start_Lat\", DoubleType(), True),\n",
    "                    StructField(\"Start_Lng\", DoubleType(), True),\n",
    "                    StructField(\"Distance(mi)\", DoubleType(), True),\n",
    "                    StructField(\"Temperature(F)\", DoubleType(), True),\n",
    "                    StructField(\"Wind_Chill(F)\", DoubleType(), True),\n",
    "                    StructField(\"Humidity(%)\", DoubleType(), True),\n",
    "                    StructField(\"Pressure(in)\", DoubleType(), True),\n",
    "                    StructField(\"Visibility(mi)\", DoubleType(), True),\n",
    "                    StructField(\"Wind_Speed(mph)\", DoubleType(), True),\n",
    "                    StructField(\"Precipitation(in)\", DoubleType(), True),\n",
    "                    StructField(\"Duration\", DoubleType(), True),\n",
    "                    StructField(\"Side\", DoubleType(), True),\n",
    "                    StructField(\"City\", DoubleType(), True),\n",
    "                    StructField(\"County\", DoubleType(), True),\n",
    "                    StructField(\"State\", DoubleType(), True),\n",
    "                    StructField(\"Wind_Direction\", DoubleType(), True),\n",
    "                    StructField(\"Weather_Condition\", DoubleType(), True),\n",
    "                    StructField(\"Amenity\", DoubleType(), True),\n",
    "                    StructField(\"Bump\", DoubleType(), True),\n",
    "                    StructField(\"Crossing\", DoubleType(), True),\n",
    "                    StructField(\"Give_Way\", DoubleType(), True),\n",
    "                    StructField(\"Junction\", DoubleType(), True),\n",
    "                    StructField(\"No_Exit\", DoubleType(), True),\n",
    "                    StructField(\"Railway\", DoubleType(), True),\n",
    "                    StructField(\"Roundabout\", DoubleType(), True),\n",
    "                    StructField(\"Station\", DoubleType(), True),\n",
    "                    StructField(\"Stop\", DoubleType(), True),\n",
    "                    StructField(\"Traffic_Calming\", DoubleType(), True),\n",
    "                    StructField(\"Traffic_Signal\", DoubleType(), True),\n",
    "                    StructField(\"Turning_Loop\", DoubleType(), True),\n",
    "                    StructField(\"Civil_Twilight\", DoubleType(), True),\n",
    "                ])\n",
    "\n",
    "dfCSV = spark.readStream.option(\"delimeter\", \",\").option(\"header\", True).schema(accidentsSchema).csv(\"tmp\")"
   ]
  },
  {
   "cell_type": "code",
   "execution_count": 3,
   "metadata": {},
   "outputs": [],
   "source": [
    "features = [\"TMC\", \"Start_Lat\", \"Start_Lng\", \"Distance(mi)\", \"Temperature(F)\", \"Wind_Chill(F)\", \"Humidity(%)\", \"Pressure(in)\", \"Visibility(mi)\", \"Wind_Speed(mph)\", \"Precipitation(in)\", \"Duration\", \"Side\", \"City\", \"County\", \"State\", \"Wind_Direction\", \"Weather_Condition\", \"Amenity\", \"Bump\", \"Crossing\", \"Give_Way\", \"Junction\", \"No_Exit\", \"Railway\", \"Roundabout\", \"Station\", \"Stop\", \"Traffic_Calming\", \"Traffic_Signal\", \"Turning_Loop\", \"Civil_Twilight\"]\n",
    "\n",
    "dfCSV = dfCSV.withColumnRenamed(\"Severity\", \"label\")\n",
    "\n",
    "vectorAssembler = VectorAssembler(inputCols=features, outputCol=\"features\")"
   ]
  },
  {
   "cell_type": "code",
   "execution_count": 4,
   "metadata": {},
   "outputs": [],
   "source": [
    "lr = LogisticRegression(maxIter=100, regParam=0.3, elasticNetParam=0.8)"
   ]
  },
  {
   "cell_type": "code",
   "execution_count": 5,
   "metadata": {},
   "outputs": [],
   "source": [
    "pipeline = Pipeline(stages=[vectorAssembler, lr])"
   ]
  },
  {
   "cell_type": "code",
   "execution_count": 6,
   "metadata": {},
   "outputs": [],
   "source": [
    "def foreach_batch_function(df, epoch_id):\n",
    "    splits = df.randomSplit([0.7, 0.3])\n",
    "    train_df = splits[0]\n",
    "    test_df = splits[1]\n",
    "    \n",
    "    fited_pipeline = pipeline.fit(train_df)\n",
    "    predictions = fited_pipeline.transform(test_df)\n",
    "    \n",
    "    predictions_raw = predictions.withColumn(\"prediction\", col(\"prediction\")) \\\n",
    "                             .withColumn(\"label\", col(\"label\").cast(DoubleType())) \\\n",
    "                             .select([\"prediction\", \"label\"])\n",
    "    \n",
    "    metrics = MulticlassMetrics(predictions_raw.rdd)\n",
    "    \n",
    "    print(\"Summary Stats for LogisticRegression\")\n",
    "    print(\"Accuracy = {}\".format(metrics.accuracy))\n",
    "    print(\"Precision = {}\".format(metrics.weightedPrecision))\n",
    "    print(\"Recall = {}\".format(metrics.weightedRecall))\n",
    "    print(\"F1 Score = {}\".format(metrics.weightedFMeasure()))"
   ]
  },
  {
   "cell_type": "code",
   "execution_count": null,
   "metadata": {},
   "outputs": [
    {
     "name": "stdout",
     "output_type": "stream",
     "text": [
      "Summary Stats for LogisticRegression\n",
      "Accuracy = 0.6459016393442623\n",
      "Precision = 0.41718892770760546\n",
      "Recall = 0.6459016393442623\n",
      "F1 Score = 0.5069427209196002\n",
      "Summary Stats for LogisticRegression\n",
      "Accuracy = 0.6972059779077323\n",
      "Precision = 0.4860961756302773\n",
      "Recall = 0.6972059779077323\n",
      "F1 Score = 0.5728193065045917\n"
     ]
    }
   ],
   "source": [
    "stream = dfCSV.writeStream.foreachBatch(foreach_batch_function).start()\n",
    "stream.awaitTermination()"
   ]
  }
 ],
 "metadata": {
  "kernelspec": {
   "display_name": "Python 3",
   "language": "python",
   "name": "python3"
  },
  "language_info": {
   "codemirror_mode": {
    "name": "ipython",
    "version": 3
   },
   "file_extension": ".py",
   "mimetype": "text/x-python",
   "name": "python",
   "nbconvert_exporter": "python",
   "pygments_lexer": "ipython3",
   "version": "3.8.3"
  }
 },
 "nbformat": 4,
 "nbformat_minor": 4
}
