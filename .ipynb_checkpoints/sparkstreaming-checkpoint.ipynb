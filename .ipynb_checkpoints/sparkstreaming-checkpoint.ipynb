{
 "cells": [
  {
   "cell_type": "code",
   "execution_count": 1,
   "metadata": {},
   "outputs": [],
   "source": [
    "import pyspark\n",
    "from pyspark.sql import SparkSession\n",
    "from pyspark.sql import SQLContext\n",
    "from pyspark import SparkContext\n",
    "from pyspark.streaming import StreamingContext\n",
    "from pyspark.sql.types import StructType\n",
    "from pyspark.ml.feature import OneHotEncoder\n",
    "from pyspark.ml.feature import StringIndexer\n",
    "import pyspark.sql.functions as f\n",
    "from pyspark.ml.feature import VectorAssembler\n",
    "from pyspark.ml.classification import LogisticRegressionModel\n",
    "from pyspark.ml.pipeline import PipelineModel"
   ]
  },
  {
   "cell_type": "code",
   "execution_count": 2,
   "metadata": {},
   "outputs": [],
   "source": [
    "from pyspark.sql.types import *\n",
    "spark = SparkSession.builder.appName(\"Mlseverity\").getOrCreate()\n",
    "\n",
    "accidentsSchema = StructType([\n",
    "                    StructField(\"TMC\", DoubleType(), True),\n",
    "                    StructField(\"Severity\", DoubleType(), True),\n",
    "                    StructField(\"Start_Lat\", DoubleType(), True),\n",
    "                    StructField(\"Start_Lng\", DoubleType(), True),\n",
    "                    StructField(\"Distance(mi)\", DoubleType(), True),\n",
    "                    StructField(\"Temperature(F)\", DoubleType(), True),\n",
    "                    StructField(\"Wind_Chill(F)\", DoubleType(), True),\n",
    "                    StructField(\"Humidity(%)\", DoubleType(), True),\n",
    "                    StructField(\"Pressure(in)\", DoubleType(), True),\n",
    "                    StructField(\"Visibility(mi)\", DoubleType(), True),\n",
    "                    StructField(\"Wind_Speed(mph)\", DoubleType(), True),\n",
    "                    StructField(\"Precipitation(in)\", DoubleType(), True),\n",
    "                    StructField(\"Duration\", DoubleType(), True),\n",
    "                    StructField(\"Side\", DoubleType(), True),\n",
    "                    StructField(\"City\", DoubleType(), True),\n",
    "                    StructField(\"County\", DoubleType(), True),\n",
    "                    StructField(\"State\", DoubleType(), True),\n",
    "                    StructField(\"Wind_Direction\", DoubleType(), True),\n",
    "                    StructField(\"Weather_Condition\", DoubleType(), True),\n",
    "                    StructField(\"Amenity\", DoubleType(), True),\n",
    "                    StructField(\"Bump\", DoubleType(), True),\n",
    "                    StructField(\"Crossing\", DoubleType(), True),\n",
    "                    StructField(\"Give_Way\", DoubleType(), True),\n",
    "                    StructField(\"Junction\", DoubleType(), True),\n",
    "                    StructField(\"No_Exit\", DoubleType(), True),\n",
    "                    StructField(\"Railway\", DoubleType(), True),\n",
    "                    StructField(\"Roundabout\", DoubleType(), True),\n",
    "                    StructField(\"Station\", DoubleType(), True),\n",
    "                    StructField(\"Stop\", DoubleType(), True),\n",
    "                    StructField(\"Traffic_Calming\", DoubleType(), True),\n",
    "                    StructField(\"Traffic_Signal\", DoubleType(), True),\n",
    "                    StructField(\"Turning_Loop\", DoubleType(), True),\n",
    "                    StructField(\"Civil_Twilight\", DoubleType(), True),\n",
    "                ])\n",
    "\n",
    "dfCSV = spark.readStream.option(\"delimeter\", \",\").option(\"header\", True).schema(accidentsSchema).csv(\"tmp\")"
   ]
  },
  {
   "cell_type": "code",
   "execution_count": 3,
   "metadata": {},
   "outputs": [],
   "source": [
    "features = [\"TMC\", \"Start_Lat\", \"Start_Lng\", \"Distance(mi)\", \"Temperature(F)\", \"Wind_Chill(F)\", \"Humidity(%)\", \"Pressure(in)\", \"Visibility(mi)\", \"Wind_Speed(mph)\", \"Precipitation(in)\", \"Duration\", \"Side\", \"City\", \"County\", \"State\", \"Wind_Direction\", \"Weather_Condition\", \"Amenity\", \"Bump\", \"Crossing\", \"Give_Way\", \"Junction\", \"No_Exit\", \"Railway\", \"Roundabout\", \"Station\", \"Stop\", \"Traffic_Calming\", \"Traffic_Signal\", \"Turning_Loop\", \"Civil_Twilight\"]\n",
    "\n",
    "vectorAssembler = VectorAssembler(inputCols=features, outputCol=\"features\")\n",
    "v_df = vectorAssembler.transform(dfCSV)\n",
    "v_df = v_df.select([\"features\", \"Severity\"])\n",
    "v_df = v_df.withColumnRenamed(\"Severity\", \"label\")"
   ]
  },
  {
   "cell_type": "code",
   "execution_count": 4,
   "metadata": {},
   "outputs": [],
   "source": [
    "persistedModel = LogisticRegressionModel.load(\"LogisticRegression\")"
   ]
  },
  {
   "cell_type": "code",
   "execution_count": 5,
   "metadata": {},
   "outputs": [],
   "source": [
    "predictions = persistedModel.transform(v_df)"
   ]
  },
  {
   "cell_type": "code",
   "execution_count": null,
   "metadata": {},
   "outputs": [],
   "source": [
    "predictions.createOrReplaceTempView(\"df\")\n",
    "\n",
    "prueba = spark.sql(\"SELECT prediction as Severiry, count(*) as N  FROM df GROUP BY prediction\")\n",
    "\n",
    "query = prueba.writeStream.outputMode(\"complete\").format(\"console\").start()\n",
    "query.awaitTermination()"
   ]
  },
  {
   "cell_type": "code",
   "execution_count": null,
   "metadata": {},
   "outputs": [],
   "source": []
  }
 ],
 "metadata": {
  "kernelspec": {
   "display_name": "Python 3",
   "language": "python",
   "name": "python3"
  },
  "language_info": {
   "codemirror_mode": {
    "name": "ipython",
    "version": 3
   },
   "file_extension": ".py",
   "mimetype": "text/x-python",
   "name": "python",
   "nbconvert_exporter": "python",
   "pygments_lexer": "ipython3",
   "version": "3.8.3"
  }
 },
 "nbformat": 4,
 "nbformat_minor": 4
}
