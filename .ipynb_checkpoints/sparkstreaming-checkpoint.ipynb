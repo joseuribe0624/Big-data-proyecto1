{
 "cells": [
  {
   "cell_type": "code",
   "execution_count": 2,
   "metadata": {},
   "outputs": [],
   "source": [
    "import pyspark\n",
    "from pyspark.sql import SparkSession\n",
    "from pyspark.sql import SQLContext\n",
    "from pyspark import SparkContext\n",
    "from pyspark.streaming import StreamingContext\n",
    "from pyspark.sql.types import StructType\n",
    "from pyspark.ml.feature import OneHotEncoder\n",
    "from pyspark.ml.feature import StringIndexer\n",
    "import pyspark.sql.functions as f\n",
    "from pyspark.ml.feature import VectorAssembler\n",
    "from pyspark.ml.classification import LogisticRegressionModel, LogisticRegression\n",
    "from pyspark.ml import Pipeline\n",
    "from pyspark.mllib.evaluation import MulticlassMetrics\n",
    "from pyspark.sql.types import DoubleType\n",
    "from pyspark.sql.functions import col"
   ]
  },
  {
   "cell_type": "code",
   "execution_count": 3,
   "metadata": {},
   "outputs": [
    {
     "ename": "AttributeError",
     "evalue": "'DataStreamReader' object has no attribute 'trigger'",
     "output_type": "error",
     "traceback": [
      "\u001b[0;31m---------------------------------------------------------------------------\u001b[0m",
      "\u001b[0;31mAttributeError\u001b[0m                            Traceback (most recent call last)",
      "\u001b[0;32m<ipython-input-3-7f26dc2f7d31>\u001b[0m in \u001b[0;36m<module>\u001b[0;34m\u001b[0m\n\u001b[1;32m     38\u001b[0m                 ])\n\u001b[1;32m     39\u001b[0m \u001b[0;34m\u001b[0m\u001b[0m\n\u001b[0;32m---> 40\u001b[0;31m \u001b[0mdfCSV\u001b[0m \u001b[0;34m=\u001b[0m \u001b[0mspark\u001b[0m\u001b[0;34m.\u001b[0m\u001b[0mreadStream\u001b[0m\u001b[0;34m.\u001b[0m\u001b[0moption\u001b[0m\u001b[0;34m(\u001b[0m\u001b[0;34m\"delimeter\"\u001b[0m\u001b[0;34m,\u001b[0m \u001b[0;34m\",\"\u001b[0m\u001b[0;34m)\u001b[0m\u001b[0;34m.\u001b[0m\u001b[0moption\u001b[0m\u001b[0;34m(\u001b[0m\u001b[0;34m\"header\"\u001b[0m\u001b[0;34m,\u001b[0m \u001b[0;32mTrue\u001b[0m\u001b[0;34m)\u001b[0m\u001b[0;34m.\u001b[0m\u001b[0mtrigger\u001b[0m\u001b[0;34m(\u001b[0m\u001b[0mcontinuous\u001b[0m\u001b[0;34m=\u001b[0m\u001b[0;34m\"1 second\"\u001b[0m\u001b[0;34m)\u001b[0m\u001b[0;34m.\u001b[0m\u001b[0mschema\u001b[0m\u001b[0;34m(\u001b[0m\u001b[0maccidentsSchema\u001b[0m\u001b[0;34m)\u001b[0m\u001b[0;34m.\u001b[0m\u001b[0mcsv\u001b[0m\u001b[0;34m(\u001b[0m\u001b[0;34m\"tmp\"\u001b[0m\u001b[0;34m)\u001b[0m\u001b[0;34m\u001b[0m\u001b[0;34m\u001b[0m\u001b[0m\n\u001b[0m",
      "\u001b[0;31mAttributeError\u001b[0m: 'DataStreamReader' object has no attribute 'trigger'"
     ]
    }
   ],
   "source": [
    "from pyspark.sql.types import *\n",
    "spark = SparkSession.builder.appName(\"Mlseverity\").getOrCreate()\n",
    "\n",
    "accidentsSchema = StructType([\n",
    "                    StructField(\"TMC\", DoubleType(), True),\n",
    "                    StructField(\"Severity\", DoubleType(), True),\n",
    "                    StructField(\"Start_Lat\", DoubleType(), True),\n",
    "                    StructField(\"Start_Lng\", DoubleType(), True),\n",
    "                    StructField(\"Distance(mi)\", DoubleType(), True),\n",
    "                    StructField(\"Temperature(F)\", DoubleType(), True),\n",
    "                    StructField(\"Wind_Chill(F)\", DoubleType(), True),\n",
    "                    StructField(\"Humidity(%)\", DoubleType(), True),\n",
    "                    StructField(\"Pressure(in)\", DoubleType(), True),\n",
    "                    StructField(\"Visibility(mi)\", DoubleType(), True),\n",
    "                    StructField(\"Wind_Speed(mph)\", DoubleType(), True),\n",
    "                    StructField(\"Precipitation(in)\", DoubleType(), True),\n",
    "                    StructField(\"Duration\", DoubleType(), True),\n",
    "                    StructField(\"Side\", DoubleType(), True),\n",
    "                    StructField(\"City\", DoubleType(), True),\n",
    "                    StructField(\"County\", DoubleType(), True),\n",
    "                    StructField(\"State\", DoubleType(), True),\n",
    "                    StructField(\"Wind_Direction\", DoubleType(), True),\n",
    "                    StructField(\"Weather_Condition\", DoubleType(), True),\n",
    "                    StructField(\"Amenity\", DoubleType(), True),\n",
    "                    StructField(\"Bump\", DoubleType(), True),\n",
    "                    StructField(\"Crossing\", DoubleType(), True),\n",
    "                    StructField(\"Give_Way\", DoubleType(), True),\n",
    "                    StructField(\"Junction\", DoubleType(), True),\n",
    "                    StructField(\"No_Exit\", DoubleType(), True),\n",
    "                    StructField(\"Railway\", DoubleType(), True),\n",
    "                    StructField(\"Roundabout\", DoubleType(), True),\n",
    "                    StructField(\"Station\", DoubleType(), True),\n",
    "                    StructField(\"Stop\", DoubleType(), True),\n",
    "                    StructField(\"Traffic_Calming\", DoubleType(), True),\n",
    "                    StructField(\"Traffic_Signal\", DoubleType(), True),\n",
    "                    StructField(\"Turning_Loop\", DoubleType(), True),\n",
    "                    StructField(\"Civil_Twilight\", DoubleType(), True),\n",
    "                ])\n",
    "\n",
    "dfCSV = spark.readStream.option(\"delimeter\", \",\").option(\"header\", True).schema(accidentsSchema).csv(\"tmp\")"
   ]
  },
  {
   "cell_type": "code",
   "execution_count": null,
   "metadata": {},
   "outputs": [],
   "source": [
    "features = [\"TMC\", \"Start_Lat\", \"Start_Lng\", \"Distance(mi)\", \"Temperature(F)\", \"Wind_Chill(F)\", \"Humidity(%)\", \"Pressure(in)\", \"Visibility(mi)\", \"Wind_Speed(mph)\", \"Precipitation(in)\", \"Duration\", \"Side\", \"City\", \"County\", \"State\", \"Wind_Direction\", \"Weather_Condition\", \"Amenity\", \"Bump\", \"Crossing\", \"Give_Way\", \"Junction\", \"No_Exit\", \"Railway\", \"Roundabout\", \"Station\", \"Stop\", \"Traffic_Calming\", \"Traffic_Signal\", \"Turning_Loop\", \"Civil_Twilight\"]\n",
    "\n",
    "dfCSV = dfCSV.withColumnRenamed(\"Severity\", \"label\")\n",
    "\n",
    "vectorAssembler = VectorAssembler(inputCols=features, outputCol=\"features\")"
   ]
  },
  {
   "cell_type": "code",
   "execution_count": null,
   "metadata": {},
   "outputs": [],
   "source": [
    "lr = LogisticRegression(maxIter=100, regParam=0.3, elasticNetParam=0.8)"
   ]
  },
  {
   "cell_type": "code",
   "execution_count": null,
   "metadata": {},
   "outputs": [],
   "source": [
    "pipeline = Pipeline(stages=[vectorAssembler, lr])"
   ]
  },
  {
   "cell_type": "code",
   "execution_count": null,
   "metadata": {},
   "outputs": [],
   "source": [
    "def foreach_batch_function(df, epoch_id):\n",
    "    splits = df.randomSplit([0.7, 0.3])\n",
    "    train_df = splits[0]\n",
    "    test_df = splits[1]\n",
    "    \n",
    "    fited_pipeline = pipeline.fit(train_df)\n",
    "    predictions = fited_pipeline.transform(test_df)\n",
    "    \n",
    "    predictions_raw = predictions.withColumn(\"prediction\", col(\"prediction\")) \\\n",
    "                             .withColumn(\"label\", col(\"label\").cast(DoubleType())) \\\n",
    "                             .select([\"prediction\", \"label\"])\n",
    "    \n",
    "    metrics = MulticlassMetrics(predictions_raw.rdd)\n",
    "    \n",
    "    print(\"Summary Stats for LogisticRegression\")\n",
    "    print(\"Accuracy = {}\".format(metrics.accuracy))\n",
    "    print(\"Precision = {}\".format(metrics.weightedPrecision))\n",
    "    print(\"Recall = {}\".format(metrics.weightedRecall))\n",
    "    print(\"F1 Score = {}\".format(metrics.weightedFMeasure()))"
   ]
  },
  {
   "cell_type": "code",
   "execution_count": null,
   "metadata": {},
   "outputs": [],
   "source": [
    "stream = dfCSV.writeStream.foreachBatch(foreach_batch_function).start()\n",
    "stream.awaitTermination()"
   ]
  },
  {
   "cell_type": "code",
   "execution_count": null,
   "metadata": {},
   "outputs": [],
   "source": [
    "##persistedModel = LogisticRegressionModel.load(\"LogisticRegression\")"
   ]
  },
  {
   "cell_type": "code",
   "execution_count": null,
   "metadata": {},
   "outputs": [],
   "source": [
    "##predictions = persistedModel.transform(v_df)"
   ]
  },
  {
   "cell_type": "code",
   "execution_count": null,
   "metadata": {},
   "outputs": [],
   "source": [
    "\"\"\"predictions.createOrReplaceTempView(\"df\")\n",
    "\n",
    "prueba = spark.sql(\"SELECT prediction as Severiry, count(*) as N  FROM df GROUP BY prediction\")\n",
    "\n",
    "query = prueba.writeStream.outputMode(\"complete\").format(\"console\").start()\n",
    "query.awaitTermination()\"\"\""
   ]
  }
 ],
 "metadata": {
  "kernelspec": {
   "display_name": "Python 3",
   "language": "python",
   "name": "python3"
  },
  "language_info": {
   "codemirror_mode": {
    "name": "ipython",
    "version": 3
   },
   "file_extension": ".py",
   "mimetype": "text/x-python",
   "name": "python",
   "nbconvert_exporter": "python",
   "pygments_lexer": "ipython3",
   "version": "3.8.3"
  }
 },
 "nbformat": 4,
 "nbformat_minor": 4
}
