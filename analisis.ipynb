{
 "cells": [
  {
   "cell_type": "code",
   "execution_count": 1,
   "metadata": {},
   "outputs": [],
   "source": [
    "import pyspark"
   ]
  },
  {
   "cell_type": "code",
   "execution_count": 2,
   "metadata": {},
   "outputs": [],
   "source": [
    "from pyspark.sql import SparkSession\n",
    "from pyspark.sql import SQLContext\n",
    "from pyspark.ml.evaluation import MulticlassClassificationEvaluator\n",
    "import pyspark.sql.functions as F\n",
    "spark = SparkSession.builder.config(\"spark.driver.memory\", \"4g\").appName('us_accidents').getOrCreate()\n",
    "sqlContext =SQLContext(spark)"
   ]
  },
  {
   "cell_type": "code",
   "execution_count": 3,
   "metadata": {},
   "outputs": [],
   "source": [
    "from pyspark.sql.types import *\n",
    "schema = StructType([StructField('ID', StringType(),True),\n",
    "                    StructField('Source', StringType(), True),\n",
    "                    StructField('TMC', DoubleType(), True),\n",
    "                    StructField('Severity', IntegerType(), True),\n",
    "                    StructField('Start_Time', StringType(), True),\n",
    "                    StructField('End_Time', StringType(), True),\n",
    "                    StructField('Start_Lat', DoubleType(), True),\n",
    "                    StructField('Start_Lng', DoubleType(), True),\n",
    "                    StructField('End_Lat', DoubleType(), True),\n",
    "                    StructField('End_Lng', DoubleType(), True),\n",
    "                    StructField('Distance(mi)', DoubleType(), True),\n",
    "                    StructField('Description', StringType(), True),\n",
    "                    StructField('Number', DoubleType(), True),\n",
    "                    StructField('Street', StringType(), True),\n",
    "                    StructField('Side', StringType(), True),\n",
    "                    StructField('City', StringType(), True),\n",
    "                    StructField('County', StringType(), True),\n",
    "                    StructField('State', StringType(), True),\n",
    "                    StructField('Zipcode', StringType(), True),\n",
    "                    StructField('Country', StringType(), True),\n",
    "                    StructField('TimeZone', StringType(), True),\n",
    "                    StructField('Airport_Code', StringType(), True),\n",
    "                    StructField('Weather_Timestamp', StringType(), True),\n",
    "                    StructField('Temperature(F)', DoubleType(), True),\n",
    "                    StructField('Wind_Chill(F)', DoubleType(), True),\n",
    "                    StructField('Humidity(%)', DoubleType(), True),\n",
    "                    StructField('Pressure(in)', DoubleType(), True),\n",
    "                    StructField('Visibility(mi)', DoubleType(), True),\n",
    "                    StructField('Wind_Direction', StringType(), True),\n",
    "                    StructField('Wind_Speed(mph)', DoubleType(), True),\n",
    "                    StructField('Precipitation(in)', DoubleType(), True),\n",
    "                    StructField('Weather_Condition', StringType(), True),\n",
    "                    StructField('Amenity', StringType(), True),\n",
    "                    StructField('Bump', StringType(), True),\n",
    "                    StructField('Crossing', StringType(), True),\n",
    "                    StructField('Give_Way', StringType(), True),\n",
    "                    StructField('Junction', StringType(), True),\n",
    "                    StructField('No_Exit', StringType(), True),\n",
    "                    StructField('Railway', StringType(), True),\n",
    "                    StructField('Roundabout', StringType(), True),\n",
    "                    StructField('Station', StringType(), True),\n",
    "                    StructField('Stop', StringType(), True),\n",
    "                    StructField('Traffic_Calming', StringType(), True),\n",
    "                    StructField('Traffic_Signal', StringType(), True),\n",
    "                    StructField('Turning_Loop', StringType(), True),\n",
    "                    StructField('Sunrise_Sunset', StringType(), True),\n",
    "                    StructField('Civil_Twilight', StringType(), True),\n",
    "                    StructField('Nautical_Twilight', StringType(), True),\n",
    "                    StructField('Astronomical_Twilight', StringType(), True)])\n",
    "           \n",
    "\n",
    "df = spark.read.format(\"csv\").option(\"header\",True).option(\"delimeter\", \",\")\\\n",
    "                        .schema(schema).load(\"US_Accidents_June20.csv\")"
   ]
  },
  {
   "cell_type": "code",
   "execution_count": 4,
   "metadata": {},
   "outputs": [
    {
     "name": "stdout",
     "output_type": "stream",
     "text": [
      "(3513617, 49)\n"
     ]
    }
   ],
   "source": [
    "print((df.count(), len(df.columns)))"
   ]
  },
  {
   "cell_type": "markdown",
   "metadata": {},
   "source": [
    "## 'count','mean','std','min','25%','50%','75%','max'"
   ]
  },
  {
   "cell_type": "code",
   "execution_count": 5,
   "metadata": {},
   "outputs": [
    {
     "name": "stdout",
     "output_type": "stream",
     "text": [
      "+--------+-------------+------------------+------------------+-------------------+\n",
      "|      ID|       Source|               TMC|          Severity|         Start_Time|\n",
      "+--------+-------------+------------------+------------------+-------------------+\n",
      "| 3513617|      3513617|           2478818|           3513617|            3513617|\n",
      "|    null|         null|208.02258052023183|2.3399286262560772|               null|\n",
      "|    null|         null|20.766272454850682|0.5521934519055779|               null|\n",
      "|     A-1|         Bing|             200.0|                 1|2016-02-08 00:37:08|\n",
      "|    null|         null|             201.0|                 2|               null|\n",
      "|    null|         null|             201.0|                 2|               null|\n",
      "|    null|         null|             201.0|                 3|               null|\n",
      "|A-999999|MapQuest-Bing|             406.0|                 4|2020-06-30 23:18:09|\n",
      "+--------+-------------+------------------+------------------+-------------------+\n",
      "\n"
     ]
    }
   ],
   "source": [
    "df.summary().select('ID','Source','TMC','Severity','Start_Time').show()"
   ]
  },
  {
   "cell_type": "code",
   "execution_count": 6,
   "metadata": {},
   "outputs": [
    {
     "name": "stdout",
     "output_type": "stream",
     "text": [
      "+-------------------+-----------------+-----------------+-------------------+------------------+\n",
      "|           End_Time|        Start_Lat|          End_Lat|            End_Lng|      Distance(mi)|\n",
      "+-------------------+-----------------+-----------------+-------------------+------------------+\n",
      "|            3513617|          3513617|          1034799|            1034799|           3513617|\n",
      "|               null|36.54194510119375|37.55757770725813|-100.45598055624444| 0.281616686738409|\n",
      "|               null|4.883520196081629| 4.86121476783781| 18.528793146598634|1.5501343247484947|\n",
      "|2016-02-08 06:37:08|        24.555269|         24.57011|        -124.497829|               0.0|\n",
      "|               null|        33.637608|         33.99477|         -118.34504|               0.0|\n",
      "|               null|        35.916901|         37.79724|          -97.03692|               0.0|\n",
      "|               null|         40.32217|         41.05063|         -82.106059|              0.01|\n",
      "|2020-06-30 23:47:46|        49.002201|           49.075|         -67.109242|     333.630004883|\n",
      "+-------------------+-----------------+-----------------+-------------------+------------------+\n",
      "\n"
     ]
    }
   ],
   "source": [
    "df.summary().select('End_Time','Start_Lat','End_Lat','End_Lng','Distance(mi)').show()"
   ]
  },
  {
   "cell_type": "code",
   "execution_count": 7,
   "metadata": {},
   "outputs": [
    {
     "name": "stdout",
     "output_type": "stream",
     "text": [
      "+--------------------+-----------------+----------------+-------+----------+\n",
      "|         Description|           Number|          Street|   Side|      City|\n",
      "+--------------------+-----------------+----------------+-------+----------+\n",
      "|             3513616|          1250753|         3513617|3513617|   3513505|\n",
      "|                null|5975.382687868828|            null|   null|      null|\n",
      "|                null|  14966.240165419|            null|   null|      null|\n",
      "| middle lane bloc...|              0.0|       1 Mile Rd|       |Aaronsburg|\n",
      "|                null|            863.0|            null|   null|      null|\n",
      "|                null|           2798.0|            null|   null|      null|\n",
      "|                null|           7098.0|            null|   null|      null|\n",
      "|~6 lane blocked d...|        9999997.0|william Carey Dr|      R|   Zwingle|\n",
      "+--------------------+-----------------+----------------+-------+----------+\n",
      "\n"
     ]
    }
   ],
   "source": [
    "df.summary().select('Description','Number','Street','Side','City').show()"
   ]
  },
  {
   "cell_type": "code",
   "execution_count": 8,
   "metadata": {},
   "outputs": [
    {
     "name": "stdout",
     "output_type": "stream",
     "text": [
      "+---------+-------+------------------+-------+----------+\n",
      "|   County|  State|           Zipcode|Country|  TimeZone|\n",
      "+---------+-------+------------------+-------+----------+\n",
      "|  3513617|3513617|           3512548|3513617|   3509737|\n",
      "|     null|   null|59837.760470691836|   null|      null|\n",
      "|     null|   null| 30723.36767860533|   null|      null|\n",
      "|Abbeville|     AL|             01001|     US|US/Central|\n",
      "|     null|   null|           30815.0|   null|      null|\n",
      "|     null|   null|           65806.0|   null|      null|\n",
      "|     null|   null|           91355.0|   null|      null|\n",
      "|     Yuma|     WY|             99403|     US|US/Pacific|\n",
      "+---------+-------+------------------+-------+----------+\n",
      "\n"
     ]
    }
   ],
   "source": [
    "df.summary().select('County','State','Zipcode','Country','TimeZone').show()"
   ]
  },
  {
   "cell_type": "code",
   "execution_count": 9,
   "metadata": {},
   "outputs": [
    {
     "name": "stdout",
     "output_type": "stream",
     "text": [
      "+------------+-------------------+------------------+------------------+------------------+\n",
      "|Airport_Code|  Weather_Timestamp|    Temperature(F)|     Wind_Chill(F)|       Humidity(%)|\n",
      "+------------+-------------------+------------------+------------------+------------------+\n",
      "|     3506859|            3470294|           3447885|           1645368|           3443930|\n",
      "|        null|               null| 61.93511900773892|53.557295328460995| 65.11427003452451|\n",
      "|        null|               null|18.621056594747568| 23.77333678193986|22.755581256697734|\n",
      "|        K01M|2016-02-08 00:53:00|             -89.0|             -89.0|               1.0|\n",
      "|        null|               null|              50.0|              35.7|              48.0|\n",
      "|        null|               null|              64.0|              57.0|              67.0|\n",
      "|        null|               null|              75.9|              72.0|              84.0|\n",
      "|        KZZV|2020-06-30 23:34:00|             170.6|             115.0|             100.0|\n",
      "+------------+-------------------+------------------+------------------+------------------+\n",
      "\n"
     ]
    }
   ],
   "source": [
    "df.summary().select('Airport_Code','Weather_Timestamp','Temperature(F)','Wind_Chill(F)','Humidity(%)').show()"
   ]
  },
  {
   "cell_type": "code",
   "execution_count": 10,
   "metadata": {},
   "outputs": [
    {
     "name": "stdout",
     "output_type": "stream",
     "text": [
      "+------------------+------------------+--------------+-----------------+--------------------+\n",
      "|      Pressure(in)|    Visibility(mi)|Wind_Direction|  Wind_Speed(mph)|   Precipitation(in)|\n",
      "+------------------+------------------+--------------+-----------------+--------------------+\n",
      "|           3457735|           3437761|       3454743|          3059008|             1487743|\n",
      "|29.744628810478126|  9.12264429086265|          null|8.219024631515838|0.015982558815601934|\n",
      "|0.8319758234849882|2.8858793265902425|          null|5.262847339451445| 0.19282619342581409|\n",
      "|               0.0|               0.0|          CALM|              0.0|                 0.0|\n",
      "|             29.73|              10.0|          null|              5.0|                 0.0|\n",
      "|             29.95|              10.0|          null|              7.0|                 0.0|\n",
      "|             30.09|              10.0|          null|             11.5|                 0.0|\n",
      "|             57.74|             140.0|          West|            984.0|                25.0|\n",
      "+------------------+------------------+--------------+-----------------+--------------------+\n",
      "\n"
     ]
    }
   ],
   "source": [
    "df.summary().select('Pressure(in)','Visibility(mi)', 'Wind_Direction','Wind_Speed(mph)','Precipitation(in)').show()"
   ]
  },
  {
   "cell_type": "code",
   "execution_count": 4,
   "metadata": {
    "scrolled": true
   },
   "outputs": [
    {
     "name": "stdout",
     "output_type": "stream",
     "text": [
      "                         count\n",
      "End_Lng                2478818\n",
      "End_Lat                2478818\n",
      "Number                 2262864\n",
      "Precipitation(in)      2025874\n",
      "Wind_Chill(F)          1868249\n",
      "TMC                    1034799\n",
      "Wind_Speed(mph)         454609\n",
      "Weather_Condition        76138\n",
      "Visibility(mi)           75856\n",
      "Humidity(%)              69687\n",
      "Temperature(F)           65732\n",
      "Wind_Direction           58874\n",
      "Pressure(in)             55882\n",
      "Weather_Timestamp        43323\n",
      "Airport_Code              6758\n",
      "TimeZone                  3880\n",
      "Zipcode                   1069\n",
      "Sunrise_Sunset             115\n",
      "Civil_Twilight             115\n",
      "Nautical_Twilight          115\n",
      "Astronomical_Twilight      115\n",
      "City                       112\n",
      "Description                  1\n",
      "Country                      0\n",
      "Junction                     0\n",
      "Severity                     0\n",
      "Start_Time                   0\n",
      "End_Time                     0\n",
      "Turning_Loop                 0\n",
      "Traffic_Signal               0\n",
      "Traffic_Calming              0\n",
      "Stop                         0\n",
      "Station                      0\n",
      "Roundabout                   0\n",
      "Railway                      0\n",
      "No_Exit                      0\n",
      "Give_Way                     0\n",
      "State                        0\n",
      "Crossing                     0\n",
      "Bump                         0\n",
      "Amenity                      0\n",
      "Start_Lat                    0\n",
      "Start_Lng                    0\n",
      "Distance(mi)                 0\n",
      "Street                       0\n",
      "Side                         0\n",
      "Source                       0\n",
      "County                       0\n",
      "ID                           0\n"
     ]
    }
   ],
   "source": [
    "\"\"\"\n",
    "Counts number of nulls and nans in each column\n",
    "\"\"\"\n",
    "df2 = df.select([F.count(F.when(F.isnan(c) | F.isnull(c), c)).alias(c) for (c,c_type) in df.dtypes]).toPandas()\n",
    "\n",
    "if len(df2) == 0:\n",
    "    print(\"There are no any missing values!\")\n",
    "    \n",
    "print(df2.rename(index={0: 'count'}).T.sort_values(\"count\",ascending=False))"
   ]
  },
  {
   "cell_type": "markdown",
   "metadata": {},
   "source": [
    "## Removing useless attributes"
   ]
  },
  {
   "cell_type": "code",
   "execution_count": 4,
   "metadata": {},
   "outputs": [],
   "source": [
    "useless = [\"ID\", \"Source\", \"End_Lat\", \"End_Lng\", \"Number\", \"Street\", \"Zipcode\", \"Timezone\", \"Country\", \"Airport_Code\", \"Weather_Timestamp\", \"Sunrise_Sunset\", \"Nautical_Twilight\", \"Astronomical_Twilight\"]\n",
    "df = df.drop(*useless)"
   ]
  },
  {
   "cell_type": "code",
   "execution_count": 5,
   "metadata": {},
   "outputs": [
    {
     "name": "stdout",
     "output_type": "stream",
     "text": [
      "root\n",
      " |-- TMC: double (nullable = true)\n",
      " |-- Severity: integer (nullable = true)\n",
      " |-- Start_Time: string (nullable = true)\n",
      " |-- End_Time: string (nullable = true)\n",
      " |-- Start_Lat: double (nullable = true)\n",
      " |-- Start_Lng: double (nullable = true)\n",
      " |-- Distance(mi): double (nullable = true)\n",
      " |-- Description: string (nullable = true)\n",
      " |-- Side: string (nullable = true)\n",
      " |-- City: string (nullable = true)\n",
      " |-- County: string (nullable = true)\n",
      " |-- State: string (nullable = true)\n",
      " |-- Temperature(F): double (nullable = true)\n",
      " |-- Wind_Chill(F): double (nullable = true)\n",
      " |-- Humidity(%): double (nullable = true)\n",
      " |-- Pressure(in): double (nullable = true)\n",
      " |-- Visibility(mi): double (nullable = true)\n",
      " |-- Wind_Direction: string (nullable = true)\n",
      " |-- Wind_Speed(mph): double (nullable = true)\n",
      " |-- Precipitation(in): double (nullable = true)\n",
      " |-- Weather_Condition: string (nullable = true)\n",
      " |-- Amenity: string (nullable = true)\n",
      " |-- Bump: string (nullable = true)\n",
      " |-- Crossing: string (nullable = true)\n",
      " |-- Give_Way: string (nullable = true)\n",
      " |-- Junction: string (nullable = true)\n",
      " |-- No_Exit: string (nullable = true)\n",
      " |-- Railway: string (nullable = true)\n",
      " |-- Roundabout: string (nullable = true)\n",
      " |-- Station: string (nullable = true)\n",
      " |-- Stop: string (nullable = true)\n",
      " |-- Traffic_Calming: string (nullable = true)\n",
      " |-- Traffic_Signal: string (nullable = true)\n",
      " |-- Turning_Loop: string (nullable = true)\n",
      " |-- Civil_Twilight: string (nullable = true)\n",
      "\n"
     ]
    }
   ],
   "source": [
    "df.printSchema()"
   ]
  },
  {
   "cell_type": "markdown",
   "metadata": {},
   "source": [
    "## Removing rows with almost one missing column"
   ]
  },
  {
   "cell_type": "code",
   "execution_count": 6,
   "metadata": {},
   "outputs": [],
   "source": [
    "df = df.dropna()"
   ]
  },
  {
   "cell_type": "code",
   "execution_count": 7,
   "metadata": {},
   "outputs": [
    {
     "name": "stdout",
     "output_type": "stream",
     "text": [
      "(781146, 35)\n"
     ]
    }
   ],
   "source": [
    "print((df.count(), len(df.columns)))"
   ]
  },
  {
   "cell_type": "code",
   "execution_count": 8,
   "metadata": {},
   "outputs": [
    {
     "name": "stdout",
     "output_type": "stream",
     "text": [
      "                   count\n",
      "TMC                    0\n",
      "No_Exit                0\n",
      "Weather_Condition      0\n",
      "Amenity                0\n",
      "Bump                   0\n",
      "Crossing               0\n",
      "Give_Way               0\n",
      "Junction               0\n",
      "Railway                0\n",
      "Wind_Speed(mph)        0\n",
      "Roundabout             0\n",
      "Station                0\n",
      "Stop                   0\n",
      "Traffic_Calming        0\n",
      "Traffic_Signal         0\n",
      "Turning_Loop           0\n",
      "Precipitation(in)      0\n",
      "Wind_Direction         0\n",
      "Severity               0\n",
      "Side                   0\n",
      "Start_Time             0\n",
      "End_Time               0\n",
      "Start_Lat              0\n",
      "Start_Lng              0\n",
      "Distance(mi)           0\n",
      "Description            0\n",
      "City                   0\n",
      "Visibility(mi)         0\n",
      "County                 0\n",
      "State                  0\n",
      "Temperature(F)         0\n",
      "Wind_Chill(F)          0\n",
      "Humidity(%)            0\n",
      "Pressure(in)           0\n",
      "Civil_Twilight         0\n"
     ]
    }
   ],
   "source": [
    "\"\"\"\n",
    "Counts number of nulls and nans in each column\n",
    "\"\"\"\n",
    "df2 = df.select([F.count(F.when(F.isnan(c) | F.isnull(c), c)).alias(c) for (c,c_type) in df.dtypes]).toPandas()\n",
    "\n",
    "if len(df2) == 0:\n",
    "    print(\"There are no any missing values!\")\n",
    "    \n",
    "print(df2.rename(index={0: 'count'}).T.sort_values(\"count\",ascending=False))"
   ]
  },
  {
   "cell_type": "markdown",
   "metadata": {},
   "source": [
    "## Correlation Matrix"
   ]
  },
  {
   "cell_type": "code",
   "execution_count": 9,
   "metadata": {},
   "outputs": [
    {
     "name": "stdout",
     "output_type": "stream",
     "text": [
      "DataFrame[TMC: double, Severity: int, Start_Lat: double, Start_Lng: double, End_Lat: double, End_Lng: double, Distance(mi): double, Number: double, Temperature(f): double, Wind_chill(f): double, Humidity(%): double, Pressure(in): double, Visibility(mi): double, Wind_Speed(mph): double, Precipitation(in): double]\n",
      "                            TMC  Severity  Start_Lat  Start_Lng       End_Lat  \\\n",
      "TMC                1.000000e+00  0.132549  -0.004657  -0.013330 -8.829529e-08   \n",
      "Severity           1.325486e-01  1.000000   0.047617   0.083705  2.503775e-02   \n",
      "Start_Lat         -4.657480e-03  0.047617   1.000000  -0.013994  5.403886e-01   \n",
      "Start_Lng         -1.332991e-02  0.083705  -0.013994   1.000000 -1.472758e-02   \n",
      "End_Lat           -8.829529e-08  0.025038   0.540389  -0.014728  1.000000e+00   \n",
      "End_Lng            1.828266e-08  0.179512  -0.013581   0.578980 -2.504327e-02   \n",
      "Distance(mi)       3.617129e-02  0.150326   0.062742   0.048143  1.544524e-02   \n",
      "Number             1.666052e-02  0.009787   0.037454  -0.107209  7.176026e-02   \n",
      "Temperature(f)     2.480518e-03 -0.026996  -0.423506  -0.061979 -2.369039e-01   \n",
      "Wind_chill(f)      1.927228e-02 -0.057178  -0.327871  -0.113608 -1.968099e-01   \n",
      "Humidity(%)        5.723968e-03  0.033946   0.043480   0.178299  4.971923e-02   \n",
      "Pressure(in)      -1.808122e-02  0.038034  -0.097421   0.148183 -7.056081e-02   \n",
      "Visibility(mi)     6.425617e-04 -0.006357  -0.049909  -0.046967 -3.322752e-02   \n",
      "Wind_Speed(mph)    5.174373e-04  0.032510   0.050832   0.078169  3.046374e-02   \n",
      "Precipitation(in)  4.925864e-03  0.011423   0.001278   0.026864 -2.116748e-03   \n",
      "\n",
      "                        End_Lng  Distance(mi)    Number  Temperature(f)  \\\n",
      "TMC                1.828266e-08      0.036171  0.016661        0.002481   \n",
      "Severity           1.795119e-01      0.150326  0.009787       -0.026996   \n",
      "Start_Lat         -1.358051e-02      0.062742  0.037454       -0.423506   \n",
      "Start_Lng          5.789803e-01      0.048143 -0.107209       -0.061979   \n",
      "End_Lat           -2.504327e-02      0.015445  0.071760       -0.236904   \n",
      "End_Lng            1.000000e+00      0.062139 -0.075681       -0.020344   \n",
      "Distance(mi)       6.213884e-02      1.000000  0.017171       -0.037682   \n",
      "Number            -7.568106e-02      0.017171  1.000000       -0.016447   \n",
      "Temperature(f)    -2.034378e-02     -0.037682 -0.016447        1.000000   \n",
      "Wind_chill(f)     -8.265632e-02     -0.033157 -0.006923        0.760652   \n",
      "Humidity(%)        8.404831e-02      0.018800  0.003892       -0.338245   \n",
      "Pressure(in)       1.031797e-01     -0.026961 -0.029697       -0.020914   \n",
      "Visibility(mi)    -1.764394e-02     -0.010918 -0.002960        0.179953   \n",
      "Wind_Speed(mph)    8.264216e-02      0.013577 -0.003565       -0.006295   \n",
      "Precipitation(in)  1.828403e-02      0.001543 -0.002495       -0.005980   \n",
      "\n",
      "                   Wind_chill(f)  Humidity(%)  Pressure(in)  Visibility(mi)  \\\n",
      "TMC                     0.019272     0.005724     -0.018081        0.000643   \n",
      "Severity               -0.057178     0.033946      0.038034       -0.006357   \n",
      "Start_Lat              -0.327871     0.043480     -0.097421       -0.049909   \n",
      "Start_Lng              -0.113608     0.178299      0.148183       -0.046967   \n",
      "End_Lat                -0.196810     0.049719     -0.070561       -0.033228   \n",
      "End_Lng                -0.082656     0.084048      0.103180       -0.017644   \n",
      "Distance(mi)           -0.033157     0.018800     -0.026961       -0.010918   \n",
      "Number                 -0.006923     0.003892     -0.029697       -0.002960   \n",
      "Temperature(f)          0.760652    -0.338245     -0.020914        0.179953   \n",
      "Wind_chill(f)           1.000000    -0.227723     -0.136127        0.138240   \n",
      "Humidity(%)            -0.227723     1.000000      0.111317       -0.379323   \n",
      "Pressure(in)           -0.136127     0.111317      1.000000       -0.011852   \n",
      "Visibility(mi)          0.138240    -0.379323     -0.011852        1.000000   \n",
      "Wind_Speed(mph)        -0.096747    -0.135372      0.001014        0.014371   \n",
      "Precipitation(in)      -0.021385     0.045301      0.025752       -0.059159   \n",
      "\n",
      "                   Wind_Speed(mph)  Precipitation(in)  \n",
      "TMC                       0.000517           0.004926  \n",
      "Severity                  0.032510           0.011423  \n",
      "Start_Lat                 0.050832           0.001278  \n",
      "Start_Lng                 0.078169           0.026864  \n",
      "End_Lat                   0.030464          -0.002117  \n",
      "End_Lng                   0.082642           0.018284  \n",
      "Distance(mi)              0.013577           0.001543  \n",
      "Number                   -0.003565          -0.002495  \n",
      "Temperature(f)           -0.006295          -0.005980  \n",
      "Wind_chill(f)            -0.096747          -0.021385  \n",
      "Humidity(%)              -0.135372           0.045301  \n",
      "Pressure(in)              0.001014           0.025752  \n",
      "Visibility(mi)            0.014371          -0.059159  \n",
      "Wind_Speed(mph)           1.000000           0.014790  \n",
      "Precipitation(in)         0.014790           1.000000  \n"
     ]
    }
   ],
   "source": [
    "from pyspark.mllib.stat import Statistics\n",
    "import pandas as pd\n",
    "\n",
    "\n",
    "# result can be used w/ seaborn's heatmap\n",
    "def compute_correlation_matrix(df, method='pearson'):\n",
    "    # wrapper around\n",
    "    # https://forums.databricks.com/questions/3092/how-to-calculate-correlation-matrix-with-all-colum.html\n",
    "    df_rdd = df.rdd.map(lambda row: row[0:])\n",
    "    corr_mat = Statistics.corr(df_rdd, method=method)\n",
    "    corr_mat_df = pd.DataFrame(corr_mat,\n",
    "                    columns=df.columns, \n",
    "                    index=df.columns)\n",
    "    return corr_mat_df\n",
    "\n",
    "numeric_features = [t[0] for t in df.dtypes if t[1] == 'int' or t[1]=='double']\n",
    "df2=df.select(numeric_features)\n",
    "print(df2)\n",
    "\n",
    "print(compute_correlation_matrix(df2))"
   ]
  },
  {
   "cell_type": "markdown",
   "metadata": {},
   "source": [
    "## Transform no-numeric features"
   ]
  },
  {
   "cell_type": "code",
   "execution_count": 9,
   "metadata": {},
   "outputs": [],
   "source": [
    "no_numeric = [\"Source\", \"Start_Time\", \"End_Time\", \"Description\", \"Street\", \"Side\", \"City\", \"County\", \"State\", \"Zipcode\", \"Country\", \"TimeZone\", \"Airport_Code\", \"Weather_Timestamp\", \"Wind_Direction\", \"Weather_Condition\", \"Amenity\", \"Bump\", \"Crossing\", \"Give_Way\", \"Junction\", \"No_Exit\", \"Railway\", \"Roundabout\", \"Station\", \"Stop\", \"Traffic_Calming\", \"Traffic_Signal\", \"Turning_Loop\", \"Sunrise_Sunset\", \"Civil_Twilight\", \"Nautical_Twilight\", \"Astronomical_Twilight\"]\n",
    "numeric_features = [\"TMC\", \"Severity\", \"Start_Lat\", \"Start_Lng\", \"End_Lat\", \"End_Lng\", \"Distance(mi)\", \"Number\", \"Temperature(f)\", \"Wind_chill(f)\", \"Humidity(%)\", \"Pressure(in)\", \"Visibility(mi)\", \"Wind_Speed(mph)\", \"Precipitation(in)\"]\n",
    "output = \"Severity\""
   ]
  },
  {
   "cell_type": "markdown",
   "metadata": {},
   "source": [
    "## Start and end time to Duration"
   ]
  },
  {
   "cell_type": "code",
   "execution_count": 10,
   "metadata": {},
   "outputs": [],
   "source": [
    "features_dates = [\"Start_Time\", \"End_Time\"]"
   ]
  },
  {
   "cell_type": "code",
   "execution_count": 11,
   "metadata": {},
   "outputs": [],
   "source": [
    "from pyspark.sql.functions import col, unix_timestamp, to_date\n",
    "\n",
    "for feature in features_dates:\n",
    "    df = df.withColumn(feature+\"Vec\", unix_timestamp(feature, \"yyyy-MM-dd HH:mm:ss\"))\n",
    "    df = df.drop(feature)"
   ]
  },
  {
   "cell_type": "code",
   "execution_count": 12,
   "metadata": {},
   "outputs": [],
   "source": [
    "df = df.withColumn(\"Duration\", df[\"End_TimeVec\"] - df[\"Start_TimeVec\"])"
   ]
  },
  {
   "cell_type": "code",
   "execution_count": 13,
   "metadata": {},
   "outputs": [],
   "source": [
    "df = df.drop(*[\"End_TimeVec\", \"Start_TimeVec\"])"
   ]
  },
  {
   "cell_type": "markdown",
   "metadata": {},
   "source": [
    "### Text embedding for Description column"
   ]
  },
  {
   "cell_type": "code",
   "execution_count": 20,
   "metadata": {},
   "outputs": [],
   "source": [
    "\"\"\"from pyspark.ml.feature import Word2Vec\n",
    "\n",
    "df = df.withColumn(\"Description\", F.split(df[\"Description\"], \" \"))\n",
    "\n",
    "word2Vec = Word2Vec(inputCol=\"Description\", outputCol=\"DescriptionVec\")\n",
    "model = word2Vec.fit(df)\n",
    "\n",
    "df = model.transform(df)\"\"\""
   ]
  },
  {
   "cell_type": "markdown",
   "metadata": {},
   "source": [
    "### OneHotEncoder"
   ]
  },
  {
   "cell_type": "code",
   "execution_count": 14,
   "metadata": {},
   "outputs": [],
   "source": [
    "fetures_toencode = [\"Side\", \"City\", \"County\", \"State\", \"Wind_Direction\", \"Weather_Condition\", \"Amenity\", \"Bump\", \"Crossing\", \"Give_Way\", \"Junction\", \"No_Exit\", \"Railway\", \"Roundabout\", \"Station\", \"Stop\", \"Traffic_Calming\", \"Traffic_Signal\", \"Turning_Loop\", \"Civil_Twilight\"]\n",
    "fetures_encoded = [feature+\"Vec\" for feature in fetures_toencode]"
   ]
  },
  {
   "cell_type": "code",
   "execution_count": 15,
   "metadata": {},
   "outputs": [],
   "source": [
    "import pyspark.sql.functions as f\n",
    "\n",
    "for feature in fetures_toencode:\n",
    "    df = df.withColumn(feature,f.lower(f.col(feature)))"
   ]
  },
  {
   "cell_type": "code",
   "execution_count": 17,
   "metadata": {},
   "outputs": [],
   "source": [
    "from pyspark.ml.feature import OneHotEncoder\n",
    "from pyspark.ml.feature import StringIndexer\n",
    "\n",
    "for index_feature in range(len(fetures_toencode)):\n",
    "    indexer = StringIndexer(inputCol=fetures_toencode[index_feature], outputCol=fetures_encoded[index_feature])\n",
    "    model = indexer.fit(df)\n",
    "    df = model.transform(df)"
   ]
  },
  {
   "cell_type": "markdown",
   "metadata": {},
   "source": [
    "### Dates"
   ]
  },
  {
   "cell_type": "code",
   "execution_count": 18,
   "metadata": {},
   "outputs": [
    {
     "name": "stdout",
     "output_type": "stream",
     "text": [
      "root\n",
      " |-- TMC: double (nullable = true)\n",
      " |-- Severity: integer (nullable = true)\n",
      " |-- Start_Lat: double (nullable = true)\n",
      " |-- Start_Lng: double (nullable = true)\n",
      " |-- Distance(mi): double (nullable = true)\n",
      " |-- Description: string (nullable = true)\n",
      " |-- Side: string (nullable = true)\n",
      " |-- City: string (nullable = true)\n",
      " |-- County: string (nullable = true)\n",
      " |-- State: string (nullable = true)\n",
      " |-- Temperature(F): double (nullable = true)\n",
      " |-- Wind_Chill(F): double (nullable = true)\n",
      " |-- Humidity(%): double (nullable = true)\n",
      " |-- Pressure(in): double (nullable = true)\n",
      " |-- Visibility(mi): double (nullable = true)\n",
      " |-- Wind_Direction: string (nullable = true)\n",
      " |-- Wind_Speed(mph): double (nullable = true)\n",
      " |-- Precipitation(in): double (nullable = true)\n",
      " |-- Weather_Condition: string (nullable = true)\n",
      " |-- Amenity: string (nullable = true)\n",
      " |-- Bump: string (nullable = true)\n",
      " |-- Crossing: string (nullable = true)\n",
      " |-- Give_Way: string (nullable = true)\n",
      " |-- Junction: string (nullable = true)\n",
      " |-- No_Exit: string (nullable = true)\n",
      " |-- Railway: string (nullable = true)\n",
      " |-- Roundabout: string (nullable = true)\n",
      " |-- Station: string (nullable = true)\n",
      " |-- Stop: string (nullable = true)\n",
      " |-- Traffic_Calming: string (nullable = true)\n",
      " |-- Traffic_Signal: string (nullable = true)\n",
      " |-- Turning_Loop: string (nullable = true)\n",
      " |-- Civil_Twilight: string (nullable = true)\n",
      " |-- Duration: long (nullable = true)\n",
      " |-- SideVec: double (nullable = false)\n",
      " |-- CityVec: double (nullable = false)\n",
      " |-- CountyVec: double (nullable = false)\n",
      " |-- StateVec: double (nullable = false)\n",
      " |-- Wind_DirectionVec: double (nullable = false)\n",
      " |-- Weather_ConditionVec: double (nullable = false)\n",
      " |-- AmenityVec: double (nullable = false)\n",
      " |-- BumpVec: double (nullable = false)\n",
      " |-- CrossingVec: double (nullable = false)\n",
      " |-- Give_WayVec: double (nullable = false)\n",
      " |-- JunctionVec: double (nullable = false)\n",
      " |-- No_ExitVec: double (nullable = false)\n",
      " |-- RailwayVec: double (nullable = false)\n",
      " |-- RoundaboutVec: double (nullable = false)\n",
      " |-- StationVec: double (nullable = false)\n",
      " |-- StopVec: double (nullable = false)\n",
      " |-- Traffic_CalmingVec: double (nullable = false)\n",
      " |-- Traffic_SignalVec: double (nullable = false)\n",
      " |-- Turning_LoopVec: double (nullable = false)\n",
      " |-- Civil_TwilightVec: double (nullable = false)\n",
      "\n"
     ]
    }
   ],
   "source": [
    "df.printSchema()"
   ]
  },
  {
   "cell_type": "markdown",
   "metadata": {},
   "source": [
    "## Transforming to vector"
   ]
  },
  {
   "cell_type": "code",
   "execution_count": 19,
   "metadata": {},
   "outputs": [],
   "source": [
    "features = [\"TMC\", \"Start_Lat\", \"Start_Lng\", \"Distance(mi)\", \"Temperature(F)\", \"Wind_Chill(F)\", \"Humidity(%)\", \"Pressure(in)\", \"Visibility(mi)\", \"Wind_Speed(mph)\", \"Precipitation(in)\", \"Duration\", \"SideVec\", \"CityVec\", \"CountyVec\", \"StateVec\", \"Wind_DirectionVec\", \"Weather_ConditionVec\", \"AmenityVec\", \"BumpVec\", \"CrossingVec\", \"Give_WayVec\", \"JunctionVec\", \"No_ExitVec\", \"RailwayVec\", \"RoundaboutVec\", \"StationVec\", \"StopVec\", \"Traffic_CalmingVec\", \"Traffic_SignalVec\", \"Turning_LoopVec\", \"Civil_TwilightVec\"]"
   ]
  },
  {
   "cell_type": "code",
   "execution_count": 20,
   "metadata": {},
   "outputs": [],
   "source": [
    "from pyspark.ml.feature import VectorAssembler\n",
    "\n",
    "vectorAssembler = VectorAssembler(inputCols=features, outputCol=\"features\")\n",
    "v_df = vectorAssembler.transform(df)\n",
    "v_df = v_df.select([\"features\", \"Severity\"])\n",
    "v_df = v_df.withColumnRenamed(\"Severity\", \"label\")"
   ]
  },
  {
   "cell_type": "code",
   "execution_count": 24,
   "metadata": {},
   "outputs": [],
   "source": [
    "splits = v_df.randomSplit([0.7, 0.3])\n",
    "train_df = splits[0]\n",
    "test_df = splits[1]"
   ]
  },
  {
   "cell_type": "markdown",
   "metadata": {},
   "source": [
    "### Free memory"
   ]
  },
  {
   "cell_type": "code",
   "execution_count": 67,
   "metadata": {},
   "outputs": [
    {
     "name": "stdout",
     "output_type": "stream",
     "text": [
      "root\n",
      " |-- TMC: double (nullable = true)\n",
      " |-- Severity: integer (nullable = true)\n",
      " |-- Start_Lat: double (nullable = true)\n",
      " |-- Start_Lng: double (nullable = true)\n",
      " |-- Distance(mi): double (nullable = true)\n",
      " |-- Description: string (nullable = true)\n",
      " |-- Side: string (nullable = true)\n",
      " |-- City: string (nullable = true)\n",
      " |-- County: string (nullable = true)\n",
      " |-- State: string (nullable = true)\n",
      " |-- Temperature(F): double (nullable = true)\n",
      " |-- Wind_Chill(F): double (nullable = true)\n",
      " |-- Humidity(%): double (nullable = true)\n",
      " |-- Pressure(in): double (nullable = true)\n",
      " |-- Visibility(mi): double (nullable = true)\n",
      " |-- Wind_Direction: string (nullable = true)\n",
      " |-- Wind_Speed(mph): double (nullable = true)\n",
      " |-- Precipitation(in): double (nullable = true)\n",
      " |-- Weather_Condition: string (nullable = true)\n",
      " |-- Amenity: string (nullable = true)\n",
      " |-- Bump: string (nullable = true)\n",
      " |-- Crossing: string (nullable = true)\n",
      " |-- Give_Way: string (nullable = true)\n",
      " |-- Junction: string (nullable = true)\n",
      " |-- No_Exit: string (nullable = true)\n",
      " |-- Railway: string (nullable = true)\n",
      " |-- Roundabout: string (nullable = true)\n",
      " |-- Station: string (nullable = true)\n",
      " |-- Stop: string (nullable = true)\n",
      " |-- Traffic_Calming: string (nullable = true)\n",
      " |-- Traffic_Signal: string (nullable = true)\n",
      " |-- Turning_Loop: string (nullable = true)\n",
      " |-- Civil_Twilight: string (nullable = true)\n",
      " |-- Duration: long (nullable = true)\n",
      " |-- SideVec: double (nullable = false)\n",
      " |-- CityVec: double (nullable = false)\n",
      " |-- CountyVec: double (nullable = false)\n",
      " |-- StateVec: double (nullable = false)\n",
      " |-- Wind_DirectionVec: double (nullable = false)\n",
      " |-- Weather_ConditionVec: double (nullable = false)\n",
      " |-- AmenityVec: double (nullable = false)\n",
      " |-- BumpVec: double (nullable = false)\n",
      " |-- CrossingVec: double (nullable = false)\n",
      " |-- Give_WayVec: double (nullable = false)\n",
      " |-- JunctionVec: double (nullable = false)\n",
      " |-- No_ExitVec: double (nullable = false)\n",
      " |-- RailwayVec: double (nullable = false)\n",
      " |-- RoundaboutVec: double (nullable = false)\n",
      " |-- StationVec: double (nullable = false)\n",
      " |-- StopVec: double (nullable = false)\n",
      " |-- Traffic_CalmingVec: double (nullable = false)\n",
      " |-- Traffic_SignalVec: double (nullable = false)\n",
      " |-- Turning_LoopVec: double (nullable = false)\n",
      " |-- Civil_TwilightVec: double (nullable = false)\n",
      "\n"
     ]
    }
   ],
   "source": [
    "df.printSchema()"
   ]
  },
  {
   "cell_type": "code",
   "execution_count": 21,
   "metadata": {},
   "outputs": [
    {
     "data": {
      "text/plain": [
       "DataFrame[ID: string, Source: string, TMC: double, Severity: int, Start_Time: string, End_Time: string, Start_Lat: double, Start_Lng: double, End_Lat: double, End_Lng: double, Distance(mi): double, Description: array<string>, Number: double, Street: string, Side: string, City: string, County: string, State: string, Zipcode: string, Country: string, TimeZone: string, Airport_Code: string, Weather_Timestamp: string, Temperature(f): double, Wind_chill(f): double, Humidity(%): double, Pressure(in): double, Visibility(mi): double, Wind_Direction: string, Wind_Speed(mph): double, Precipitation(in): double, Weather_Condition: string, Amenity: string, Bump: string, Crossing: string, Give_Way: string, Junction: string, No_Exit: string, Railway: string, Roundabout: string, Station: string, Stop: string, Traffic_Calming: string, Traffic_Signal: string, Turning_Loop: string, Sunrise_Sunset: string, Civil_Twilight: string, Nautical_Twilight: string, Astronomical_Twilight: string, DescriptionVec: vector, SourceVec: double, StreetVec: double, SideVec: double, CityVec: double, CountyVec: double, StateVec: double, ZipcodeVec: double, CountryVec: double, TimeZoneVec: double, Airport_CodeVec: double, Wind_DirectionVec: double, Weather_ConditionVec: double, AmenityVec: double, BumpVec: double, CrossingVec: double, Give_WayVec: double, JunctionVec: double, No_ExitVec: double, RailwayVec: double, RoundaboutVec: double, StationVec: double, StopVec: double, Traffic_CalmingVec: double, Traffic_SignalVec: double, Turning_LoopVec: double, Sunrise_SunsetVec: double, Civil_TwilightVec: double, Nautical_TwilightVec: double, Astronomical_TwilightVec: double, Start_TimeVec: bigint, End_TimeVec: bigint]"
      ]
     },
     "execution_count": 21,
     "metadata": {},
     "output_type": "execute_result"
    }
   ],
   "source": [
    "df.unpersist()"
   ]
  },
  {
   "cell_type": "markdown",
   "metadata": {},
   "source": [
    "## Logistic Regression"
   ]
  },
  {
   "cell_type": "code",
   "execution_count": 22,
   "metadata": {},
   "outputs": [],
   "source": [
    "from pyspark.ml.classification import LogisticRegression"
   ]
  },
  {
   "cell_type": "code",
   "execution_count": 23,
   "metadata": {},
   "outputs": [],
   "source": [
    "lr = LogisticRegression(maxIter=100, regParam=0.3, elasticNetParam=0.8)"
   ]
  },
  {
   "cell_type": "code",
   "execution_count": 25,
   "metadata": {},
   "outputs": [],
   "source": [
    "lrModel = lr.fit(train_df)"
   ]
  },
  {
   "cell_type": "code",
   "execution_count": 26,
   "metadata": {},
   "outputs": [],
   "source": [
    "predictions = lrModel.transform(test_df)"
   ]
  },
  {
   "cell_type": "code",
   "execution_count": 27,
   "metadata": {},
   "outputs": [],
   "source": [
    "from pyspark.mllib.evaluation import MulticlassMetrics\n",
    "from pyspark.sql.types import DoubleType"
   ]
  },
  {
   "cell_type": "code",
   "execution_count": 28,
   "metadata": {},
   "outputs": [],
   "source": [
    "predictions_raw = predictions.withColumn(\"prediction\", col(\"prediction\")) \\\n",
    "                             .withColumn(\"label\", col(\"label\").cast(DoubleType())) \\\n",
    "                             .drop('features') \\\n",
    "                             .drop('rawPrediction') \\\n",
    "                             .drop('probability')"
   ]
  },
  {
   "cell_type": "code",
   "execution_count": 29,
   "metadata": {},
   "outputs": [],
   "source": [
    "metrics = MulticlassMetrics(predictions_raw.rdd)"
   ]
  },
  {
   "cell_type": "code",
   "execution_count": 30,
   "metadata": {},
   "outputs": [
    {
     "name": "stdout",
     "output_type": "stream",
     "text": [
      "Summary Stats for LogisticRegression\n",
      "Accuracy = 0.6936325143842516\n",
      "Precision = 1.0\n",
      "Recall = 0.6936325143842516\n",
      "F1 Score = 0.8191062801323618\n"
     ]
    }
   ],
   "source": [
    "print(\"Summary Stats for LogisticRegression\")\n",
    "print(\"Accuracy = %s\" % metrics.accuracy)\n",
    "print(\"Precision = %s\" % metrics.weightedPrecision)\n",
    "print(\"Recall = %s\" % metrics.weightedRecall)\n",
    "print(\"F1 Score = %s\" % metrics.weightedFMeasure())"
   ]
  },
  {
   "cell_type": "code",
   "execution_count": 31,
   "metadata": {},
   "outputs": [],
   "source": [
    "lrModel.save(\"LogisticRegression\")"
   ]
  },
  {
   "cell_type": "code",
   "execution_count": null,
   "metadata": {},
   "outputs": [],
   "source": []
  }
 ],
 "metadata": {
  "kernelspec": {
   "display_name": "Python 3",
   "language": "python",
   "name": "python3"
  },
  "language_info": {
   "codemirror_mode": {
    "name": "ipython",
    "version": 3
   },
   "file_extension": ".py",
   "mimetype": "text/x-python",
   "name": "python",
   "nbconvert_exporter": "python",
   "pygments_lexer": "ipython3",
   "version": "3.8.3"
  }
 },
 "nbformat": 4,
 "nbformat_minor": 4
}
