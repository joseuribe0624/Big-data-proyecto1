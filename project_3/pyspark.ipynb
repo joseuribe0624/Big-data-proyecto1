{
 "cells": [
  {
   "cell_type": "code",
   "execution_count": 1,
   "metadata": {},
   "outputs": [],
   "source": [
    "import pyspark\n",
    "from pyspark.sql import SparkSession\n",
    "from pyspark.sql import SQLContext\n",
    "from pyspark.ml.evaluation import MulticlassClassificationEvaluator\n",
    "import pyspark.sql.functions as F\n",
    "spark = SparkSession.builder.config(\"spark.driver.memory\", \"4g\").appName(\"twicth\").getOrCreate()\n",
    "sqlContext = SQLContext(spark)"
   ]
  },
  {
   "cell_type": "code",
   "execution_count": 2,
   "metadata": {},
   "outputs": [],
   "source": [
    "from pyspark.sql.functions import col, explode, array, lit\n",
    "from pyspark.mllib.evaluation import MulticlassMetrics\n",
    "import json\n",
    "import matplotlib.pyplot as plt"
   ]
  },
  {
   "cell_type": "code",
   "execution_count": 3,
   "metadata": {},
   "outputs": [],
   "source": [
    "from pyspark.sql.types import *\n",
    "schema = StructType([StructField('_id', StringType(),True),\n",
    "                    StructField('_labels', StringType(), True),\n",
    "                    StructField('betweenness', StringType(), True),\n",
    "                    StructField('days', StringType(), True),\n",
    "                    StructField('id', StringType(), True),\n",
    "                    StructField('louvain', StringType(), True),\n",
    "                    StructField('mature', StringType(), True),\n",
    "                    StructField('node2vec', StringType(), True),\n",
    "                    StructField('pageRank', StringType(), True),\n",
    "                    StructField('partner', StringType(), True),\n",
    "                    StructField('triangles', StringType(), True),\n",
    "                    StructField('views', StringType(), True),\n",
    "                    StructField('_start', StringType(), True),\n",
    "                    StructField('_end', StringType(), True),\n",
    "                    StructField('_type', StringType(), True)])\n",
    "           \n",
    "\n",
    "df = spark.read.format(\"csv\").option(\"header\",True).option(\"delimeter\", \",\")\\\n",
    "                        .schema(schema).load(\"dataset_topo.csv\")"
   ]
  },
  {
   "cell_type": "markdown",
   "metadata": {},
   "source": [
    "# Cleaning"
   ]
  },
  {
   "cell_type": "code",
   "execution_count": 4,
   "metadata": {},
   "outputs": [],
   "source": [
    "columns_to_drop = [\"_start\", \"_end\", \"_type\", \"_id\", \"_labels\", \"id\"]\n",
    "df = df.drop(*columns_to_drop)"
   ]
  },
  {
   "cell_type": "code",
   "execution_count": 5,
   "metadata": {},
   "outputs": [],
   "source": [
    "numeric_features = [\"betweenness\", \"days\", \"louvain\", \"pageRank\", \"triangles\", \"views\"]\n",
    "categorical_features = [\"mature\", \"partner\"]\n",
    "vectorial_features = [\"node2vec\"]"
   ]
  },
  {
   "cell_type": "code",
   "execution_count": 6,
   "metadata": {},
   "outputs": [],
   "source": [
    "for feature in numeric_features:\n",
    "    df = df.withColumn(feature, col(feature).cast(DoubleType()))"
   ]
  },
  {
   "cell_type": "code",
   "execution_count": 7,
   "metadata": {},
   "outputs": [],
   "source": [
    "for feature in categorical_features:\n",
    "    df = df.withColumn(feature, F.when(F.col(feature) == 'True', 1).when(F.col(feature) == 'False', 0).otherwise(F.col(feature).cast(IntegerType())))"
   ]
  },
  {
   "cell_type": "code",
   "execution_count": 8,
   "metadata": {},
   "outputs": [],
   "source": [
    "def parse_embedding_from_string(x):\n",
    "    res = json.loads(x)\n",
    "    res = [float(x_) for x_ in res]\n",
    "    return res\n",
    "\n",
    "retrieve_embedding = F.udf(parse_embedding_from_string, ArrayType(DoubleType()))"
   ]
  },
  {
   "cell_type": "code",
   "execution_count": 9,
   "metadata": {},
   "outputs": [],
   "source": [
    "for feature in vectorial_features:\n",
    "    df = df.withColumn(feature, retrieve_embedding(F.col(feature)))"
   ]
  },
  {
   "cell_type": "code",
   "execution_count": 10,
   "metadata": {},
   "outputs": [
    {
     "name": "stdout",
     "output_type": "stream",
     "text": [
      "(1912, 9)\n"
     ]
    }
   ],
   "source": [
    "print((df.count(), len(df.columns)))"
   ]
  },
  {
   "cell_type": "code",
   "execution_count": 11,
   "metadata": {},
   "outputs": [
    {
     "name": "stdout",
     "output_type": "stream",
     "text": [
      "root\n",
      " |-- betweenness: double (nullable = true)\n",
      " |-- days: double (nullable = true)\n",
      " |-- louvain: double (nullable = true)\n",
      " |-- mature: integer (nullable = true)\n",
      " |-- node2vec: array (nullable = true)\n",
      " |    |-- element: double (containsNull = true)\n",
      " |-- pageRank: double (nullable = true)\n",
      " |-- partner: integer (nullable = true)\n",
      " |-- triangles: double (nullable = true)\n",
      " |-- views: double (nullable = true)\n",
      "\n"
     ]
    }
   ],
   "source": [
    "df.printSchema()"
   ]
  },
  {
   "cell_type": "markdown",
   "metadata": {},
   "source": [
    "## 'count','mean','std','min','25%','50%','75%','max'"
   ]
  },
  {
   "cell_type": "code",
   "execution_count": 12,
   "metadata": {},
   "outputs": [
    {
     "name": "stdout",
     "output_type": "stream",
     "text": [
      "+------------------+------------------+------------------+-------------------+-----------------+------------------+\n",
      "|       betweenness|              days|           louvain|           pageRank|        triangles|             views|\n",
      "+------------------+------------------+------------------+-------------------+-----------------+------------------+\n",
      "|              1912|              1912|              1912|               1912|             1912|              1912|\n",
      "| 1042.429916317991|1327.4173640167364| 679.3770920502092|0.46662358875399124|272.2437238493724| 408715.1030334728|\n",
      "| 4268.853742632004| 684.8830244396679|429.97402299239377| 1.0252965829311538|812.0651466600659|3454463.3165223678|\n",
      "|               0.0|             129.0|               3.0|0.15000000000000002|              0.0|               0.0|\n",
      "|0.3219424071309578|             715.0|             338.0| 0.1582372710557111|              7.0|            2014.0|\n",
      "| 64.92283747127675|            1314.0|             736.0|0.19485659205989747|             47.0|            6691.0|\n",
      "| 531.1771828486626|            1854.0|             817.0| 0.3537009104963061|            206.0|           31319.0|\n",
      "|  74843.4703833153|            3541.0|            1902.0| 19.404608193110715|          11460.0|      1.16392808E8|\n",
      "+------------------+------------------+------------------+-------------------+-----------------+------------------+\n",
      "\n"
     ]
    }
   ],
   "source": [
    "df.summary().select(*numeric_features).show()"
   ]
  },
  {
   "cell_type": "code",
   "execution_count": 13,
   "metadata": {},
   "outputs": [
    {
     "name": "stdout",
     "output_type": "stream",
     "text": [
      "+-------------------+------------------+\n",
      "|             mature|           partner|\n",
      "+-------------------+------------------+\n",
      "|               1912|              1912|\n",
      "| 0.3457112970711297|0.1459205020920502|\n",
      "|0.47572403857385526|0.3531188541076197|\n",
      "|                  0|                 0|\n",
      "|                  0|                 0|\n",
      "|                  0|                 0|\n",
      "|                  1|                 0|\n",
      "|                  1|                 1|\n",
      "+-------------------+------------------+\n",
      "\n"
     ]
    }
   ],
   "source": [
    "df.summary().select(*categorical_features).show()"
   ]
  },
  {
   "cell_type": "markdown",
   "metadata": {},
   "source": [
    "## Correlation Matrix"
   ]
  },
  {
   "cell_type": "code",
   "execution_count": 14,
   "metadata": {},
   "outputs": [
    {
     "name": "stdout",
     "output_type": "stream",
     "text": [
      "DataFrame[betweenness: double, days: double, louvain: double, mature: int, pageRank: double, partner: int, triangles: double, views: double]\n",
      "             betweenness      days   louvain    mature  pageRank   partner  \\\n",
      "betweenness     1.000000  0.115797 -0.072378 -0.001572  0.295041  0.390358   \n",
      "days            0.115797  1.000000 -0.076828 -0.020492  0.108065  0.176892   \n",
      "louvain        -0.072378 -0.076828  1.000000 -0.016785 -0.058507 -0.096047   \n",
      "mature         -0.001572 -0.020492 -0.016785  1.000000  0.007068  0.014163   \n",
      "pageRank        0.295041  0.108065 -0.058507  0.007068  1.000000  0.258702   \n",
      "partner         0.390358  0.176892 -0.096047  0.014163  0.258702  1.000000   \n",
      "triangles       0.841594  0.118295 -0.064756  0.053071  0.394833  0.448773   \n",
      "views           0.531215  0.091419 -0.034218 -0.045202  0.219702  0.272919   \n",
      "\n",
      "             triangles     views  \n",
      "betweenness   0.841594  0.531215  \n",
      "days          0.118295  0.091419  \n",
      "louvain      -0.064756 -0.034218  \n",
      "mature        0.053071 -0.045202  \n",
      "pageRank      0.394833  0.219702  \n",
      "partner       0.448773  0.272919  \n",
      "triangles     1.000000  0.573370  \n",
      "views         0.573370  1.000000  \n"
     ]
    }
   ],
   "source": [
    "from pyspark.mllib.stat import Statistics\n",
    "import pandas as pd\n",
    "\n",
    "\n",
    "# result can be used w/ seaborn's heatmap\n",
    "def compute_correlation_matrix(df, method='pearson'):\n",
    "    # wrapper around\n",
    "    # https://forums.databricks.com/questions/3092/how-to-calculate-correlation-matrix-with-all-colum.html\n",
    "    df_rdd = df.rdd.map(lambda row: row[0:])\n",
    "    corr_mat = Statistics.corr(df_rdd, method=method)\n",
    "    corr_mat_df = pd.DataFrame(corr_mat,\n",
    "                    columns=df.columns, \n",
    "                    index=df.columns)\n",
    "    return corr_mat_df\n",
    "\n",
    "numeric_features = [t[0] for t in df.dtypes if t[1] == 'int' or t[1]=='double']\n",
    "df2=df.select(numeric_features)\n",
    "print(df2)\n",
    "\n",
    "print(compute_correlation_matrix(df2))"
   ]
  },
  {
   "cell_type": "markdown",
   "metadata": {},
   "source": [
    "## Transforming to vector"
   ]
  },
  {
   "cell_type": "code",
   "execution_count": 15,
   "metadata": {},
   "outputs": [],
   "source": [
    "from pyspark.sql.functions import expr"
   ]
  },
  {
   "cell_type": "code",
   "execution_count": 16,
   "metadata": {},
   "outputs": [],
   "source": [
    "arr_size = 2\n",
    "\n",
    "df = df.select([\"betweenness\", \"days\", \"louvain\", \"mature\", \"pageRank\", \"partner\", \"triangles\", \"views\"]+[expr('node2vec[' + str(x) + ']') for x in range(arr_size)])"
   ]
  },
  {
   "cell_type": "code",
   "execution_count": 17,
   "metadata": {},
   "outputs": [
    {
     "name": "stdout",
     "output_type": "stream",
     "text": [
      "root\n",
      " |-- betweenness: double (nullable = true)\n",
      " |-- days: double (nullable = true)\n",
      " |-- louvain: double (nullable = true)\n",
      " |-- mature: integer (nullable = true)\n",
      " |-- pageRank: double (nullable = true)\n",
      " |-- partner: integer (nullable = true)\n",
      " |-- triangles: double (nullable = true)\n",
      " |-- views: double (nullable = true)\n",
      " |-- node2vec[0]: double (nullable = true)\n",
      " |-- node2vec[1]: double (nullable = true)\n",
      "\n"
     ]
    }
   ],
   "source": [
    "df.printSchema()"
   ]
  },
  {
   "cell_type": "code",
   "execution_count": 18,
   "metadata": {},
   "outputs": [],
   "source": [
    "numeric_features = [\"betweenness\", \"days\", \"louvain\", \"pageRank\", \"triangles\", \"views\"]\n",
    "categorical_features = [\"mature\", \"partner\"]\n",
    "vectorial_features = [\"node2vec\"]"
   ]
  },
  {
   "cell_type": "code",
   "execution_count": 19,
   "metadata": {},
   "outputs": [],
   "source": [
    "features = numeric_features + categorical_features + [\"node2vec[0]\", \"node2vec[1]\"]\n",
    "features.remove(\"mature\")"
   ]
  },
  {
   "cell_type": "code",
   "execution_count": 20,
   "metadata": {},
   "outputs": [],
   "source": [
    "from pyspark.ml.feature import VectorAssembler\n",
    "\n",
    "vectorAssembler = VectorAssembler(inputCols=features, outputCol=\"features\")\n",
    "v_df = vectorAssembler.transform(df)\n",
    "v_df = v_df.select([\"features\", \"mature\"])\n",
    "v_df = v_df.withColumnRenamed(\"mature\", \"label\")"
   ]
  },
  {
   "cell_type": "markdown",
   "metadata": {},
   "source": [
    "## Oversampling"
   ]
  },
  {
   "cell_type": "code",
   "execution_count": 21,
   "metadata": {},
   "outputs": [
    {
     "name": "stdout",
     "output_type": "stream",
     "text": [
      "ratio: 2\n"
     ]
    }
   ],
   "source": [
    "major_df = v_df.filter(col(\"label\") == 0)\n",
    "minor_df = v_df.filter(col(\"label\") == 1)\n",
    "ratio = int(major_df.count()/minor_df.count()) + 1\n",
    "print(\"ratio: {}\".format(ratio))"
   ]
  },
  {
   "cell_type": "code",
   "execution_count": 22,
   "metadata": {},
   "outputs": [],
   "source": [
    "a = range(ratio)\n",
    "# duplicate the minority rows\n",
    "oversampled_df = minor_df.withColumn(\"dummy\", explode(array([lit(x) for x in a]))).drop('dummy')\n",
    "# combine both oversampled minority rows and previous majority rows combined_df = major_df.unionAll(oversampled_df)\n",
    "combined_df = major_df.unionAll(oversampled_df)"
   ]
  },
  {
   "cell_type": "code",
   "execution_count": 23,
   "metadata": {},
   "outputs": [
    {
     "name": "stdout",
     "output_type": "stream",
     "text": [
      "+-----+-----+\n",
      "|label|count|\n",
      "+-----+-----+\n",
      "|    1| 1322|\n",
      "|    0| 1251|\n",
      "+-----+-----+\n",
      "\n"
     ]
    }
   ],
   "source": [
    "combined_df.groupBy(\"label\").count().show()"
   ]
  },
  {
   "cell_type": "code",
   "execution_count": 24,
   "metadata": {},
   "outputs": [],
   "source": [
    "v_df = combined_df"
   ]
  },
  {
   "cell_type": "code",
   "execution_count": 112,
   "metadata": {},
   "outputs": [],
   "source": [
    "splits = v_df.randomSplit([0.7, 0.3])\n",
    "train_df = splits[0]\n",
    "test_df = splits[1]"
   ]
  },
  {
   "cell_type": "markdown",
   "metadata": {},
   "source": [
    "# Results with topologic features"
   ]
  },
  {
   "cell_type": "markdown",
   "metadata": {},
   "source": [
    "## Logistic Regression"
   ]
  },
  {
   "cell_type": "code",
   "execution_count": 26,
   "metadata": {},
   "outputs": [],
   "source": [
    "from pyspark.ml.classification import LogisticRegression"
   ]
  },
  {
   "cell_type": "code",
   "execution_count": 106,
   "metadata": {},
   "outputs": [],
   "source": [
    "lr = LogisticRegression(maxIter=1000, regParam=0.03, elasticNetParam=0.3)"
   ]
  },
  {
   "cell_type": "code",
   "execution_count": 107,
   "metadata": {},
   "outputs": [],
   "source": [
    "lrModel = lr.fit(train_df)"
   ]
  },
  {
   "cell_type": "code",
   "execution_count": 108,
   "metadata": {},
   "outputs": [],
   "source": [
    "predictions = lrModel.transform(test_df)"
   ]
  },
  {
   "cell_type": "code",
   "execution_count": 109,
   "metadata": {},
   "outputs": [],
   "source": [
    "predictions_raw = predictions.withColumn(\"prediction\", col(\"prediction\")) \\\n",
    "                             .withColumn(\"label\", col(\"label\").cast(DoubleType())) \\\n",
    "                             .drop('features') \\\n",
    "                             .drop('rawPrediction') \\\n",
    "                             .drop('probability')"
   ]
  },
  {
   "cell_type": "code",
   "execution_count": 110,
   "metadata": {},
   "outputs": [],
   "source": [
    "metrics = MulticlassMetrics(predictions_raw.rdd)"
   ]
  },
  {
   "cell_type": "code",
   "execution_count": 111,
   "metadata": {},
   "outputs": [
    {
     "name": "stdout",
     "output_type": "stream",
     "text": [
      "Summary Stats for LogisticRegression\n",
      "Accuracy = 0.5934640522875817\n",
      "Precision = 0.5952190910622885\n",
      "Recall = 0.5934640522875817\n",
      "F1 Score = 0.5941143632392167\n"
     ]
    }
   ],
   "source": [
    "print(\"Summary Stats for LogisticRegression\")\n",
    "print(\"Accuracy = %s\" % metrics.accuracy)\n",
    "print(\"Precision = %s\" % metrics.weightedPrecision)\n",
    "print(\"Recall = %s\" % metrics.weightedRecall)\n",
    "print(\"F1 Score = %s\" % metrics.weightedFMeasure())"
   ]
  },
  {
   "cell_type": "markdown",
   "metadata": {},
   "source": [
    "## RandomForestClassifier"
   ]
  },
  {
   "cell_type": "code",
   "execution_count": 57,
   "metadata": {},
   "outputs": [],
   "source": [
    "from pyspark.ml.classification import RandomForestClassifier"
   ]
  },
  {
   "cell_type": "code",
   "execution_count": 138,
   "metadata": {},
   "outputs": [],
   "source": [
    "rf = RandomForestClassifier(labelCol=\"label\", featuresCol=\"features\", maxDepth=20, numTrees=21)"
   ]
  },
  {
   "cell_type": "code",
   "execution_count": 139,
   "metadata": {},
   "outputs": [],
   "source": [
    "rf_model = rf.fit(train_df)"
   ]
  },
  {
   "cell_type": "code",
   "execution_count": 140,
   "metadata": {},
   "outputs": [],
   "source": [
    "rf_predictions = rf_model.transform(test_df)"
   ]
  },
  {
   "cell_type": "code",
   "execution_count": 141,
   "metadata": {},
   "outputs": [],
   "source": [
    "rf_predictions_raw = rf_predictions.withColumn(\"prediction\", col(\"prediction\")) \\\n",
    "                             .withColumn(\"label\", col(\"label\").cast(DoubleType())) \\\n",
    "                             .drop('features') \\\n",
    "                             .drop('rawPrediction') \\\n",
    "                             .drop('probability')"
   ]
  },
  {
   "cell_type": "code",
   "execution_count": 142,
   "metadata": {},
   "outputs": [],
   "source": [
    "rf_metrics = MulticlassMetrics(rf_predictions_raw.rdd)"
   ]
  },
  {
   "cell_type": "code",
   "execution_count": 143,
   "metadata": {},
   "outputs": [
    {
     "name": "stdout",
     "output_type": "stream",
     "text": [
      "Summary Stats for RandomForestClassifier\n",
      "Accuracy = 0.7863695937090432\n",
      "Precision = 0.8160144122913595\n",
      "Recall = 0.7863695937090432\n",
      "F1 Score = 0.789555589571421\n"
     ]
    }
   ],
   "source": [
    "print(\"Summary Stats for RandomForestClassifier\")\n",
    "print(\"Accuracy = %s\" % rf_metrics.accuracy)\n",
    "print(\"Precision = %s\" % rf_metrics.weightedPrecision)\n",
    "print(\"Recall = %s\" % rf_metrics.weightedRecall)\n",
    "print(\"F1 Score = %s\" % rf_metrics.weightedFMeasure())"
   ]
  },
  {
   "cell_type": "code",
   "execution_count": 144,
   "metadata": {},
   "outputs": [],
   "source": [
    "importances_features = rf_model.featureImportances.toArray().tolist()"
   ]
  },
  {
   "cell_type": "code",
   "execution_count": 145,
   "metadata": {},
   "outputs": [
    {
     "data": {
      "image/png": "[encoded data removed]",
      "text/plain": [
       "<Figure size 648x432 with 1 Axes>"
      ]
     },
     "metadata": {
      "needs_background": "light"
     },
     "output_type": "display_data"
    }
   ],
   "source": [
    "fig = plt.figure(figsize=(9, 6))\n",
    "ax = fig.add_axes([0,0,1,1])\n",
    "labels = ['betweenness','days','louvain','pageRank','triangles','views','partner','node2vec[0]','node2vec[1]']\n",
    "ax.bar(labels, importances_features, width=0.7)\n",
    "plt.show()"
   ]
  },
  {
   "cell_type": "markdown",
   "metadata": {},
   "source": [
    "## Results without topologic features"
   ]
  },
  {
   "cell_type": "code",
   "execution_count": 42,
   "metadata": {},
   "outputs": [],
   "source": [
    "df_notopo = df.select([\"days\", \"mature\", \"partner\", \"views\"])"
   ]
  },
  {
   "cell_type": "code",
   "execution_count": 43,
   "metadata": {},
   "outputs": [],
   "source": [
    "vectorAssembler = VectorAssembler(inputCols=[\"days\", \"partner\", \"views\"], outputCol=\"features\")\n",
    "v_df_notopo = vectorAssembler.transform(df_notopo)\n",
    "v_df_notopo = v_df_notopo.select([\"features\", \"mature\"])\n",
    "v_df_notopo = v_df_notopo.withColumnRenamed(\"mature\", \"label\")"
   ]
  },
  {
   "cell_type": "code",
   "execution_count": 44,
   "metadata": {},
   "outputs": [
    {
     "name": "stdout",
     "output_type": "stream",
     "text": [
      "ratio: 2\n"
     ]
    }
   ],
   "source": [
    "major_df = v_df_notopo.filter(col(\"label\") == 0)\n",
    "minor_df = v_df_notopo.filter(col(\"label\") == 1)\n",
    "ratio = int(major_df.count()/minor_df.count()) + 1\n",
    "print(\"ratio: {}\".format(ratio))"
   ]
  },
  {
   "cell_type": "code",
   "execution_count": 45,
   "metadata": {},
   "outputs": [],
   "source": [
    "a = range(ratio)\n",
    "# duplicate the minority rows\n",
    "oversampled_df = minor_df.withColumn(\"dummy\", explode(array([lit(x) for x in a]))).drop('dummy')\n",
    "# combine both oversampled minority rows and previous majority rows combined_df = major_df.unionAll(oversampled_df)\n",
    "combined_df = major_df.unionAll(oversampled_df)"
   ]
  },
  {
   "cell_type": "code",
   "execution_count": 46,
   "metadata": {},
   "outputs": [
    {
     "name": "stdout",
     "output_type": "stream",
     "text": [
      "+-----+-----+\n",
      "|label|count|\n",
      "+-----+-----+\n",
      "|    1| 1322|\n",
      "|    0| 1251|\n",
      "+-----+-----+\n",
      "\n"
     ]
    }
   ],
   "source": [
    "combined_df.groupBy(\"label\").count().show()"
   ]
  },
  {
   "cell_type": "code",
   "execution_count": 47,
   "metadata": {},
   "outputs": [],
   "source": [
    "v_df_notopo = combined_df"
   ]
  },
  {
   "cell_type": "code",
   "execution_count": 48,
   "metadata": {},
   "outputs": [],
   "source": [
    "splits = v_df_notopo.randomSplit([0.7, 0.3])\n",
    "train_df_notopo = splits[0]\n",
    "test_df_notop = splits[1]"
   ]
  },
  {
   "cell_type": "code",
   "execution_count": 146,
   "metadata": {},
   "outputs": [
    {
     "name": "stdout",
     "output_type": "stream",
     "text": [
      "Summary Stats for RandomForestClassifier\n",
      "Accuracy = 0.6060991105463787\n",
      "Precision = 0.6064064594125269\n",
      "Recall = 0.6060991105463787\n",
      "F1 Score = 0.606217585025102\n"
     ]
    }
   ],
   "source": [
    "rf_notopo = RandomForestClassifier(labelCol=\"label\", featuresCol=\"features\", maxDepth=20, numTrees=21)\n",
    "rf_notopo_model = rf_notopo.fit(train_df_notopo)\n",
    "rf_notopo_predictions = rf_notopo_model.transform(test_df_notop)\n",
    "rf_notopo_predictions_raw = rf_notopo_predictions.withColumn(\"prediction\", col(\"prediction\")) \\\n",
    "                             .withColumn(\"label\", col(\"label\").cast(DoubleType())) \\\n",
    "                             .drop('features') \\\n",
    "                             .drop('rawPrediction') \\\n",
    "                             .drop('probability')\n",
    "rf_notopo_metrics = MulticlassMetrics(rf_notopo_predictions_raw.rdd)\n",
    "print(\"Summary Stats for RandomForestClassifier\")\n",
    "print(\"Accuracy = %s\" % rf_notopo_metrics.accuracy)\n",
    "print(\"Precision = %s\" % rf_notopo_metrics.weightedPrecision)\n",
    "print(\"Recall = %s\" % rf_notopo_metrics.weightedRecall)\n",
    "print(\"F1 Score = %s\" % rf_notopo_metrics.weightedFMeasure())"
   ]
  },
  {
   "cell_type": "code",
   "execution_count": 147,
   "metadata": {},
   "outputs": [
    {
     "data": {
      "image/png": "[encoded data removed]",
      "text/plain": [
       "<Figure size 648x432 with 1 Axes>"
      ]
     },
     "metadata": {
      "needs_background": "light"
     },
     "output_type": "display_data"
    }
   ],
   "source": [
    "importances_features = rf_notopo_model.featureImportances.toArray().tolist()\n",
    "fig = plt.figure(figsize=(9, 6))\n",
    "ax = fig.add_axes([0,0,1,1])\n",
    "labels = [\"days\", \"partner\", \"views\"]\n",
    "ax.bar(labels, importances_features, width=0.7)\n",
    "plt.show()"
   ]
  }
 ],
 "metadata": {
  "kernelspec": {
   "display_name": "Python 3",
   "language": "python",
   "name": "python3"
  },
  "language_info": {
   "codemirror_mode": {
    "name": "ipython",
    "version": 3
   },
   "file_extension": ".py",
   "mimetype": "text/x-python",
   "name": "python",
   "nbconvert_exporter": "python",
   "pygments_lexer": "ipython3",
   "version": "3.8.5"
  }
 },
 "nbformat": 4,
 "nbformat_minor": 4
}
